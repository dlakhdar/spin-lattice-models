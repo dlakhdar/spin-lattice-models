{
 "cells": [
  {
   "cell_type": "code",
   "execution_count": 2,
   "metadata": {
    "trusted": true
   },
   "outputs": [],
   "source": [
    "import numpy as np\n",
    "from copy import copy\n",
    "import matplotlib.pyplot as plt\n",
    "from numba import njit, prange\n",
    "\n",
    "up =  \"\\u2191\"  # ↑\n",
    "down = \"\\u2193\"  # ↑\n",
    "\n",
    "boundary_conditions = {\n",
    "     \"periodic\",\n",
    "     \"aperiodic\",\n",
    "     \"buffered\",\n",
    "     \"random\",\n",
    "}    \n",
    "    \n",
    "#TODO: add glass \n",
    "magnetic_character = {\n",
    "    \"ferromagnetic\": 1, \n",
    "    \"antiferromagnetic\": 1,     \n",
    "    \"paramagnetic\":0\n",
    "}\n",
    "\n",
    "# TODO : optimize via prange \n",
    "# TODO : optimize iteration space \n",
    "@njit(fastmath=True)\n",
    "def hamiltonian(spins,h,J)-> (float | int ):\n",
    "    N = spins.shape[0]\n",
    "    energy_values = N**2//2\n",
    "    interaction_energy = np.zeros((energy_values,energy_values))\n",
    "    h_energy = np.sum(spins*h)\n",
    "    for i in prange(N):\n",
    "        for j in  prange(i, N):\n",
    "            spin = spins[i,j]\n",
    "            neighbors = np.array([\n",
    "                    spins[(i-1) % N, j],  # Top neighbor\n",
    "                    spins[(i+1) % N, j],  # Bottom neighbor\n",
    "                    spins[i, (j-1) % N],  # Left neighbor\n",
    "                    spins[i, (j+1) % N]   # Right neighbor\n",
    "                ])\n",
    "            \n",
    "            \n",
    "            interaction_energy[i,j]= np.sum(J* neighbors*spin)\n",
    "    interaction_energy = np.sum(interaction_energy)\n",
    "    H = -1.0*(interaction_energy+h_energy)\n",
    "    return H\n",
    "\n",
    "@njit(fastmath=True, parallel=True )\n",
    "def magnetization(configs: np.ndarray[:,:]) -> (float | int):\n",
    "    n = configs.shape[0]\n",
    "    L = configs.shape[1]\n",
    "    N = L**2\n",
    "    M_local = np.zeros(n)  # Store local values per thread\n",
    "    for i in prange(n):\n",
    "        M_local[i] = np.sum(configs[i])/(N)\n",
    "    return np.sum(M_local) / n  # Efficient sum outside prange\n",
    "\n",
    "@njit(fastmath=True, parallel=True)\n",
    "def internal_energy_per_site(configs: np.ndarray, J: (int | float), h: (int | float)) -> (float | int):\n",
    "    n = len(configs)\n",
    "    N = configs[0].shape[1]**2\n",
    "    U_local = np.zeros(n)  # Store local values per thread\n",
    "    for i in prange(n):\n",
    "        U_local[i] = hamiltonian(configs[i],h,J)/N\n",
    "    return np.sum(U_local) / n  # Efficient sum outside prange\n",
    "\n",
    "@njit(fastmath=True,parallel=True)\n",
    "def ΔE(J,spins,i,j):\n",
    "    N = spins.shape[0]\n",
    "    si = spins[i,j]\n",
    "    sj = np.array([\n",
    "                spins[(i-1) % N, j],  # Top neighbor\n",
    "                spins[(i+1) % N, j],  # Bottom neighbor\n",
    "                spins[i, (j-1) % N],  # Left neighbor\n",
    "                spins[i, (j+1) % N]   # Right neighbor\n",
    "            ])\n",
    "            \n",
    "    interaction_energy = np.sum(2*J* si*sj)\n",
    "\n",
    "    return interaction_energy\n",
    "\n",
    "H = hamiltonian\n",
    "\n",
    "#TODO: optimization \n",
    "@njit(fastmath=True)\n",
    "def monte_carlo(lattice: np.ndarray[:,:],\n",
    "                J=1.0,\n",
    "                h=0.0 ,\n",
    "                β=1.0,\n",
    "\n",
    "                iterations: (int)= 100, \n",
    "                thermalization_steps : (int) = 10,\n",
    "                sampling_interval: int = 10) -> np.ndarray[:,:]: \n",
    "\n",
    "    assert (iterations-thermalization_steps) % sampling_interval == 0 \n",
    "    N = lattice.shape[0]\n",
    "    config_n = iterations-thermalization_steps\n",
    "    configurations = np.zeros((config_n//sampling_interval,N,N))\n",
    "    for step in range(0,iterations):\n",
    "   \n",
    "        i,j = np.random.randint(0, N), np.random.randint(0, N)\n",
    "        δE = ΔE(J,lattice,i,j)\n",
    "        if δE < 0 or np.random.rand() < np.exp(-β * δE):\n",
    "            lattice[i, j] *= -1.0  # Flip only if accepted\n",
    "             # Store configurations at intervals to reduce memory usage\n",
    "\n",
    "        if step > thermalization_steps and step % sampling_interval == 0:\n",
    "            k = step // sampling_interval \n",
    "            configurations[k,:,:] = lattice\n",
    "    return configurations\n",
    "\n",
    "\n",
    "def jackknife_error(data: np.ndarray) -> tuple:\n",
    "    \"\"\"\n",
    "    Compute the jackknife estimate of the mean and its standard error efficiently.\n",
    "\n",
    "    Parameters:\n",
    "        data (np.ndarray): Array of computed values (e.g., energy, magnetization).\n",
    "\n",
    "    Returns:\n",
    "        mean (float): The estimated mean.\n",
    "        std_error (float): The jackknife standard error.\n",
    "    \"\"\"\n",
    "    n = len(data)\n",
    "    mean_full = np.mean(data)  # Compute full-sample mean\n",
    "\n",
    "    # Preallocate NumPy array for jackknife means\n",
    "    jackknife_means = np.zeros(n)\n",
    "\n",
    "    # Compute leave-one-out means\n",
    "    total_sum = np.sum(data)\n",
    "    for i in range(n):\n",
    "        jackknife_means[i] = (total_sum - data[i]) / (n - 1)\n",
    "\n",
    "    # Compute variance\n",
    "    mean_jackknife = np.mean(jackknife_means)\n",
    "    variance = (n - 1) * np.mean((jackknife_means - mean_jackknife) ** 2)\n",
    "    std_error = np.sqrt(variance)\n",
    "\n",
    "    return mean_full, std_error\n",
    "\n",
    "class SpinLattice():\n",
    "\n",
    "    \"\"\" \n",
    "    \n",
    "    \n",
    "    \"\"\"\n",
    "    \n",
    "    def __init__(self,\n",
    "                 N: (int | float),\n",
    "                dimension:(int) = 2 , \n",
    "                temperature:(int| float ) = 1 , \n",
    "                 boundary_condition: str=\"buffered\",\n",
    "                 spin_number:(int | float) = 1/2, \n",
    "                 scale_number:(int | float) = 2, \n",
    "                 buffer_pad: (int | float) = 0, \n",
    "                 interaction_strength: (int| float)= 1.0,\n",
    "                 magnetic_strength: (int|float)=1.0 ,\n",
    "                 seed: int = None):\n",
    "                \n",
    "                if seed != None:\n",
    "                    np.random.seed(seed)\n",
    "\n",
    "                self.inverse_temperature = 1/temperature\n",
    "                self.β = 1/temperature\n",
    "                self.dimension = dimension\n",
    "                self.d = dimension\n",
    "                self.N = N\n",
    "                final_value = spin_number+.5 if spin_number%1 !=0 else spin_number+1\n",
    "                spin_values = np.arange(-spin_number,final_value)*scale_number\n",
    "\n",
    "                self.spins = np.random.choice(spin_values,size=(self.N,self.N))\n",
    "                self.h = magnetic_strength\n",
    "                self.bc = boundary_condition\n",
    "                self.J = interaction_strength\n",
    "                self.interaction_strength = interaction_strength\n",
    "\n",
    "                if self.bc == \"buffered\":\n",
    "                  #https://numpy.org/doc/stable/reference/generated/numpy.pad.html\n",
    "                  self.spins = np.pad(self.spins, pad_width = 1)\n",
    "\n",
    "\n",
    "    def __str__(self):\n",
    "         spin_string = np.where(self.spins == 1, up, np.where(self.spins == -1, down, self.spins))\n",
    "         return str(spin_string[1:self.N+1,1:self.N+1])\n",
    "\n",
    "\n"
   ]
  },
  {
   "cell_type": "code",
   "execution_count": 3,
   "metadata": {},
   "outputs": [
    {
     "name": "stdout",
     "output_type": "stream",
     "text": [
      "running T = 0.1...\n"
     ]
    },
    {
     "ename": "",
     "evalue": "",
     "output_type": "error",
     "traceback": [
      "\u001b[1;31mThe Kernel crashed while executing code in the current cell or a previous cell. \n",
      "\u001b[1;31mPlease review the code in the cell(s) to identify a possible cause of the failure. \n",
      "\u001b[1;31mClick <a href='https://aka.ms/vscodeJupyterKernelCrash'>here</a> for more info. \n",
      "\u001b[1;31mView Jupyter <a href='command:jupyter.viewOutput'>log</a> for further details."
     ]
    }
   ],
   "source": [
    "J = 1 \n",
    "h = 0.0\n",
    "L = 16\n",
    "iterations = 500000\n",
    "sampling_rate = 100\n",
    "sample_n = iterations//sampling_rate\n",
    "n_spins = L **2\n",
    "burnin_fraction = .2\n",
    "thermalization = int(sample_n*burnin_fraction)\n",
    "Ts = np.arange(.1,3,.05)\n",
    "Ms = np.zeros(len(Ts))\n",
    "Es = np.zeros(len(Ts))\n",
    "\n",
    "for t in range(len(Ts)):\n",
    "    print(f\"running T = {Ts[t]}...\")\n",
    "    lattice = SpinLattice(N=L, \n",
    "                          interaction_strength=J, \n",
    "                          magnetic_strength=h,\n",
    "                          temperature=Ts[t],\n",
    "                          boundary_condition=None)\n",
    "    configs = monte_carlo(lattice.spins,\n",
    "                          lattice.J,\n",
    "                          lattice.h,\n",
    "                          lattice.β, \n",
    "                          thermalization_steps=thermalization, \n",
    "                          iterations = iterations, \n",
    "                          sampling_interval=sampling_rate)\n",
    "    n = len(configs)\n",
    "    # slow down here \n",
    "    U = internal_energy_per_site(configs,J,h)\n",
    "    # relatively fast \n",
    "    M = magnetization(configs)\n",
    "    print(f\"U(T={Ts[t]}):\",U); print(f\"M(T={Ts[t]}):\",M)\n",
    "    Ms[t] = M ; Es[t] = U\n",
    " \n",
    "plt.style.use('ggplot') \n",
    "plt.figure(figsize=(10,5))\n",
    "plt.scatter(Ts,Ms ,color=\"blue\")\n",
    "plt.plot(Ts,Es ,color=\"orange\")\n",
    "plt.xlabel(\"T\")\n",
    "plt.ylabel(f\"|M|\")\n",
    "plt.title(\"2-D Ising Model: Magnetization and Energy\")\n",
    "plt.show() \n",
    "\n"
   ]
  },
  {
   "cell_type": "code",
   "execution_count": 10,
   "metadata": {
    "trusted": false
   },
   "outputs": [
    {
     "data": {
      "image/png": "[encoded data removed]",
      "text/plain": [
       "<Figure size 1000x500 with 1 Axes>"
      ]
     },
     "metadata": {},
     "output_type": "display_data"
    }
   ],
   "source": [
    "plt.style.use('ggplot') \n",
    "plt.figure(figsize=(10,5))\n",
    "plt.scatter(Ts,Es ,color=\"blue\")\n",
    "plt.plot(Ts,Es ,color=\"orange\")\n",
    "# plt.grid()\n",
    "plt.xlabel(\"Temperature\")\n",
    "plt.ylabel(r\"|M|\")\n",
    "plt.title(\"2-D Ising Model: Magnetization \")\n",
    "plt.show() \n"
   ]
  },
  {
   "cell_type": "code",
   "execution_count": 4,
   "metadata": {},
   "outputs": [],
   "source": [
    "lattice = SpinLattice(N=64, interaction_strength=1.0, magnetic_strength=0.0, temperature=1.0, boundary_condition=None)\n",
    "configs = monte_carlo(lattice.spins, lattice.J, lattice.h, lattice.β, 1000,1)\n",
    "# energies = [hamiltonian(lattice,J=1, h=0.0)/5000 for lattice in configs]\n"
   ]
  },
  {
   "cell_type": "code",
   "execution_count": 6,
   "metadata": {},
   "outputs": [
    {
     "data": {
      "text/plain": [
       "(64, 64)"
      ]
     },
     "execution_count": 6,
     "metadata": {},
     "output_type": "execute_result"
    }
   ],
   "source": [
    "configs[0].shape"
   ]
  },
  {
   "cell_type": "code",
   "execution_count": 148,
   "metadata": {},
   "outputs": [
    {
     "data": {
      "image/png": "[encoded data removed]",
      "text/plain": [
       "<Figure size 1000x500 with 1 Axes>"
      ]
     },
     "metadata": {},
     "output_type": "display_data"
    }
   ],
   "source": [
    "plt.style.use('ggplot') \n",
    "plt.figure(figsize=(10,5))\n",
    "plt.plot(energies ,color=\"orange\")\n",
    "# plt.grid()\n",
    "plt.xlabel(\"Iteration\")\n",
    "plt.ylabel(r\"|E|\")\n",
    "plt.title(\"2-D Ising Model: Magnetization \")\n",
    "plt.show() "
   ]
  },
  {
   "cell_type": "code",
   "execution_count": 22,
   "metadata": {},
   "outputs": [
    {
     "data": {
      "text/plain": [
       "0"
      ]
     },
     "execution_count": 22,
     "metadata": {},
     "output_type": "execute_result"
    }
   ],
   "source": [
    "(iterations-thermalization) % sampling_rate "
   ]
  },
  {
   "cell_type": "code",
   "execution_count": 131,
   "metadata": {},
   "outputs": [
    {
     "data": {
      "text/plain": [
       "1000000.0"
      ]
     },
     "execution_count": 131,
     "metadata": {},
     "output_type": "execute_result"
    }
   ],
   "source": [
    "2000000/2"
   ]
  },
  {
   "cell_type": "code",
   "execution_count": 120,
   "metadata": {},
   "outputs": [
    {
     "data": {
      "text/plain": [
       "4000.0"
      ]
     },
     "execution_count": 120,
     "metadata": {},
     "output_type": "execute_result"
    }
   ],
   "source": [
    "iterations = 100000\n",
    "sampling_rate = 5 \n",
    "sample_n = iterations//sampling_rate\n",
    "burnin_fraction = .2\n",
    "start = sample_n*burnin_fraction\n",
    "start"
   ]
  },
  {
   "cell_type": "code",
   "execution_count": 93,
   "metadata": {},
   "outputs": [
    {
     "data": {
      "text/plain": [
       "10000"
      ]
     },
     "execution_count": 93,
     "metadata": {},
     "output_type": "execute_result"
    }
   ],
   "source": [
    "len(configs)"
   ]
  },
  {
   "cell_type": "code",
   "execution_count": 101,
   "metadata": {},
   "outputs": [
    {
     "data": {
      "text/plain": [
       "np.float64(-0.134759375)"
      ]
     },
     "execution_count": 101,
     "metadata": {},
     "output_type": "execute_result"
    }
   ],
   "source": [
    "n = len(configs)\n",
    "N = configs.shape[1]\n",
    "np.sum([np.sum(c)/N for c in configs])/n"
   ]
  },
  {
   "cell_type": "code",
   "execution_count": 127,
   "metadata": {},
   "outputs": [
    {
     "data": {
      "text/plain": [
       "200000.0"
      ]
     },
     "execution_count": 127,
     "metadata": {},
     "output_type": "execute_result"
    }
   ],
   "source": [
    "1000000/5"
   ]
  },
  {
   "cell_type": "code",
   "execution_count": null,
   "metadata": {},
   "outputs": [],
   "source": [
    "internal_energy_per_site(configs,1,1)"
   ]
  },
  {
   "cell_type": "code",
   "execution_count": 7,
   "metadata": {},
   "outputs": [
    {
     "name": "stdout",
     "output_type": "stream",
     "text": [
      "0 0\n",
      "0 1\n",
      "0 2\n",
      "1 1\n",
      "1 2\n",
      "2 2\n"
     ]
    }
   ],
   "source": [
    "for i in range(3):\n",
    "    for j in range(i, 3):  # Only sum upper triangle (i < j)\n",
    "        print(i,j)"
   ]
  },
  {
   "cell_type": "code",
   "execution_count": 3,
   "metadata": {},
   "outputs": [],
   "source": [
    "lattice = SpinLattice(N=L, \n",
    "                          interaction_strength=J, \n",
    "                          magnetic_strength=h,\n",
    "                          temperature=Ts[t],\n",
    "                          boundary_condition=None)"
   ]
  },
  {
   "cell_type": "code",
   "execution_count": null,
   "metadata": {},
   "outputs": [
    {
     "ename": "NameError",
     "evalue": "name 'start' is not defined",
     "output_type": "error",
     "traceback": [
      "\u001b[0;31m---------------------------------------------------------------------------\u001b[0m",
      "\u001b[0;31mNameError\u001b[0m                                 Traceback (most recent call last)",
      "Cell \u001b[0;32mIn[11], line 1\u001b[0m\n\u001b[0;32m----> 1\u001b[0m U \u001b[38;5;241m=\u001b[39m np\u001b[38;5;241m.\u001b[39msum([hamiltonian(c, h\u001b[38;5;241m=\u001b[39m\u001b[38;5;241m0.0\u001b[39m, J\u001b[38;5;241m=\u001b[39m\u001b[38;5;241m1.0\u001b[39m)\u001b[38;5;241m/\u001b[39m(n_spins) \u001b[38;5;28;01mfor\u001b[39;00m c \u001b[38;5;129;01min\u001b[39;00m configs[\u001b[43mstart\u001b[49m:]])\u001b[38;5;241m/\u001b[39mn\n",
      "\u001b[0;31mNameError\u001b[0m: name 'start' is not defined"
     ]
    }
   ],
   "source": [
    "magnetization()"
   ]
  },
  {
   "cell_type": "code",
   "execution_count": null,
   "metadata": {},
   "outputs": [
    {
     "data": {
      "text/plain": [
       "-244.0"
      ]
     },
     "execution_count": 18,
     "metadata": {},
     "output_type": "execute_result"
    }
   ],
   "source": [
    "hamiltonian(configs[0],1,1)"
   ]
  },
  {
   "cell_type": "code",
   "execution_count": 19,
   "metadata": {},
   "outputs": [
    {
     "data": {
      "text/plain": [
       "-0.191072265625"
      ]
     },
     "execution_count": 19,
     "metadata": {},
     "output_type": "execute_result"
    }
   ],
   "source": [
    "internal_energy_per_site(configs,1,1)"
   ]
  },
  {
   "cell_type": "code",
   "execution_count": null,
   "metadata": {},
   "outputs": [],
   "source": []
  }
 ],
 "metadata": {
  "kernelspec": {
   "display_name": ".sandbox",
   "language": "python",
   "name": "python3"
  },
  "language_info": {
   "codemirror_mode": {
    "name": "ipython",
    "version": 3
   },
   "file_extension": ".py",
   "mimetype": "text/x-python",
   "name": "python",
   "nbconvert_exporter": "python",
   "pygments_lexer": "ipython3",
   "version": "3.11.3"
  }
 },
 "nbformat": 4,
 "nbformat_minor": 2
}
