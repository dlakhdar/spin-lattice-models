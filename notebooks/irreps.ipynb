{
 "cells": [
  {
   "cell_type": "code",
   "execution_count": 34,
   "metadata": {},
   "outputs": [],
   "source": [
    "import numpy as np \n",
    "import sympy as sp\n",
    "from copy import copy \n",
    "import itertools"
   ]
  },
  {
   "cell_type": "code",
   "execution_count": null,
   "metadata": {},
   "outputs": [],
   "source": [
    "def ϵijk(i,j,k):\n",
    "\n",
    "    if i==k or j==k:\n",
    "        return 0 \n",
    "    elif (i,j,k) == ((1,2,3) or (2,3,1) or (3,1,2)):\n",
    "        return 1 \n",
    "    if (i,j,k) == ((3,2,1) or (1,3,2) or (2,1,3)):\n",
    "        return -1 \n",
    "\n",
    "levi_civita = ϵijk\n",
    "\n",
    "def initialize_generators(D, symbols_list):\n",
    "\n",
    "    \"\"\"\n",
    "    Initializes a set of generator matrices using symbolic variables.\n",
    "\n",
    "    Parameters:\n",
    "    -----------\n",
    "    D : int\n",
    "        The dimension of the generator matrices (each matrix will be of size DxD).\n",
    "    \n",
    "    symbols_list : list\n",
    "        A list of symbolic variables that will be used to populate the matrices.\n",
    "        It should have at least `2 * D^2` elements to construct the required matrices.\n",
    "\n",
    "    Returns:\n",
    "    --------\n",
    "    generators : list of sympy.Matrix\n",
    "        A list containing two DxD symbolic matrices.\n",
    "\n",
    "    Notes:\n",
    "    ------\n",
    "    - The function sequentially populates each matrix with symbols from `symbols_list`.\n",
    "    - The input `symbols_list` should have sufficient elements; otherwise, `pop()` will raise an `IndexError`.\n",
    "    - Each generator is stored as a `sympy.Matrix` with complex entries.\n",
    "    \"\"\"\n",
    "\n",
    "    generators = []\n",
    "    symbols_copy = copy(symbols_list)  # Generates x0, x1, ..., x_{d^3-1})\n",
    "    for _ in range(1,3):\n",
    "        rows = [ ]\n",
    "        for _ in range(D):\n",
    "            cols = []\n",
    "            for _ in range(D):\n",
    "                cols.append(symbols_copy.pop(0))\n",
    "            rows.append(cols)\n",
    "        generators.append(sp.Matrix(rows,type=complex))\n",
    "\n",
    "    return generators\n",
    "\n",
    "def initialize_eigenstates(eigenstates):\n",
    "    \"\"\"\n",
    "    Converts a given set of eigenstates into symbolic SymPy matrices.\n",
    "\n",
    "    Parameters:\n",
    "    -----------\n",
    "    eigenstates : np.ndarray\n",
    "        A NumPy array where each **column** represents an eigenstate.\n",
    "        The shape should be (D, N), where:\n",
    "        - `D` is the dimension of each eigenstate vector.\n",
    "        - `N` is the number of eigenstates.\n",
    "\n",
    "    Returns:\n",
    "    --------\n",
    "    symbolic_eigenstates : list of sympy.Matrix\n",
    "        A list containing symbolic representations of the eigenstates as `sympy.Matrix` objects.\n",
    "        Each matrix is treated as a complex-valued column vector.\n",
    "\n",
    "    Notes:\n",
    "    ------\n",
    "    - Each eigenstate (a column in `eigenstates`) is converted into a `sympy.Matrix` of size `(D, 1)`.\n",
    "    - Assumes that `eigenstates` is well-formed and contains numeric values before conversion.\n",
    "    - The function does **not** modify the original `eigenstates` array.\n",
    "    \"\"\"\n",
    "\n",
    "    symbolic_eigenstates = []\n",
    "    for j in range(eigenstates.shape[1]):\n",
    "        symbolic_eigenstate = sp.Matrix(eigenstates[:,j],type=complex)\n",
    "        symbolic_eigenstates.append(symbolic_eigenstate)\n",
    "    return symbolic_eigenstates\n",
    "\n",
    "def form_matrix_irrep_so3(j:int) -> list[sp.Matrix] :\n",
    "\n",
    "    \"\"\"\n",
    "\n",
    "    \"\"\"\n",
    "    j = 1/2 \n",
    "    D = int(2*j+1)\n",
    "    js = np.arange(j, -j-1, -1,dtype=complex)\n",
    "    J3 = sp.Matrix(np.diag(js))\n",
    "\n",
    "    # form eigenvectors of J3 \n",
    "    eigenstates = np.eye(D, dtype=complex)\n",
    "\n",
    "    # form variables in the generators \n",
    "    num_vars = D**2*2  # Number of variables\n",
    "    # Generate symbols as a flattened list\n",
    "    symbols_list = [*sp.symbols(f'x:{num_vars}')]  # Generates x0, x1, ..., x_{d^3-1}\n",
    "    generators = initialize_generators(D,symbols_list)\n",
    "    symbolic_eigenstates = initialize_eigenstates(eigenstates)\n",
    "\n",
    "    # iterate over all matrice to be constructed\n",
    "    for i in range(D):\n",
    "        if i == 0: \n",
    "            prefactor = 2.0\n",
    "            # iterate over all columns, or rather pairs of columns \n",
    "\n",
    "            col_sol1 = sp.solve(prefactor*generators[i]*symbolic_eigenstates[0]-symbolic_eigenstates[1] ,symbols_list[:4],dict=True)\n",
    "            col_sol2 = sp.solve(prefactor*generators[i]*symbolic_eigenstates[1]-symbolic_eigenstates[0] ,symbols_list[:4],dict=True)\n",
    "            print(list(col_sol1[0].values()))\n",
    "            mat = [ list(col_sol1[0].values()),list(col_sol2[0].values())]\n",
    "            generators[i] = sp.Matrix(mat).T\n",
    "        else : \n",
    "            prefactor = 2.0j \n",
    "            # iterate over all columns, or rather pairs of columns \n",
    "            col_sol1 = sp.solve(prefactor*generators[i]*symbolic_eigenstates[0]+symbolic_eigenstates[1] ,symbols_list[4:],dict=True)\n",
    "            col_sol2 = sp.solve(prefactor*generators[i]*symbolic_eigenstates[1]-symbolic_eigenstates[0] ,symbols_list[4:],dict=True)\n",
    "            mat = [ list(col_sol1[0].values()),list(col_sol2[0].values())]\n",
    "            generators[i] = sp.Matrix(mat).T\n",
    "\n",
    "    return [*generators,J3]"
   ]
  },
  {
   "cell_type": "code",
   "execution_count": 3,
   "metadata": {},
   "outputs": [],
   "source": [
    "def reassemble_mat_from_sols(D, sols):\n",
    "    \"\"\"\n",
    "    Reconstructs a DxD SymPy matrix from a list of solution dictionaries.\n",
    "\n",
    "    Parameters:\n",
    "    -----------\n",
    "    D : int\n",
    "        The dimension of the square matrix (D x D).\n",
    "    \n",
    "    sols : list of dict\n",
    "        A list where each dictionary represents a partial solution with \n",
    "        symbolic keys (e.g., x0, x1, ...) and their corresponding values.\n",
    "\n",
    "    Returns:\n",
    "    --------\n",
    "    sp.Matrix\n",
    "        A SymPy matrix of size (D x D) with values sorted according to \n",
    "        their symbolic variable indices.\n",
    "\n",
    "    Notes:\n",
    "    ------\n",
    "    - The function merges all dictionaries in `sols` into one.\n",
    "    - It extracts and sorts values based on the numerical index of their symbolic keys.\n",
    "    - The values are then used to construct a D x D matrix.\n",
    "    - Assumes the number of extracted values matches `D*D`; otherwise, an error occurs.\n",
    "\n",
    "    Example:\n",
    "    --------\n",
    "    >>> sols = [\n",
    "    ...     {sp.Symbol('x0'): 0.5, sp.Symbol('x1'): 0.0},\n",
    "    ...     {sp.Symbol('x2'): 1.0, sp.Symbol('x3'): -0.5}\n",
    "    ... ]\n",
    "    >>> reassemble_mat_from_sols(2, sols)\n",
    "    Matrix([\n",
    "    [0.5, 0.0],\n",
    "    [1.0, -0.5]\n",
    "    ])\n",
    "    \"\"\"\n",
    "    \n",
    "    merged_dict = {key: value for d in sols for key, value in d.items()}\n",
    "    sorted_dict = sorted(merged_dict.items(), key=lambda item: int(str(item[0])[1:]))\n",
    "    sorted_vals = [val for (_, val) in sorted_dict]\n",
    "    return sp.Matrix(D, D, sorted_vals)\n",
    "\n",
    "def form_matrix_irrep_so3(j:int) -> list[sp.Matrix] :\n",
    "\n",
    "    \"\"\"\n",
    "    Constructs the SO(3) irreducible representation (irrep) matrices for a given spin value j.\n",
    "\n",
    "    Parameters:\n",
    "    -----------\n",
    "    j : int\n",
    "        The total angular momentum quantum number (j). It determines the dimension \n",
    "        of the representation as D = 2j + 1.\n",
    "\n",
    "    Returns:\n",
    "    --------\n",
    "    list[sp.Matrix]\n",
    "        A list containing the SO(3) generators in matrix form: [J1, J2, J3].\n",
    "        - J1 (J_x): The first generator of the SO(3) algebra.\n",
    "        - J2 (J_y): The second generator of the SO(3) algebra.\n",
    "        - J3 (J_z): The third generator of the SO(3) algebra (diagonal form).\n",
    "\n",
    "    Notes:\n",
    "    ------\n",
    "    - The function first constructs the eigenstates of J3.\n",
    "    - It initializes the generator matrices using symbolic variables.\n",
    "    - It solves for the matrix elements by imposing the SO(3) commutation relations.\n",
    "    - The solution is reassembled into matrices using `reassemble_mat_from_sols`.\n",
    "    - The final output consists of the three angular momentum operators J1, J2, and J3.\n",
    "\n",
    "    Example:\n",
    "    --------\n",
    "    >>> import sympy as sp\n",
    "    >>> J_matrices = form_matrix_irrep_so3(1)\n",
    "    >>> for J in J_matrices:\n",
    "    ...     sp.pprint(J)\n",
    "\n",
    "    This will return the 3×3 matrices representing the SO(3) Lie algebra generators \n",
    "    for j = 1 in the standard representation.\n",
    "    \"\"\"\n",
    "    \n",
    "    D = int(2*j+1)\n",
    "    js = np.arange(j,-j-1, -1,dtype=complex)\n",
    "    J3 = sp.Matrix(np.diag(js))\n",
    "\n",
    "    # form eigenvectors of J3 \n",
    "    eigenstates = np.eye(D, dtype=complex)\n",
    "\n",
    "    # form variables in the generators \n",
    "    num_vars = D**2*2  # Number of variables\n",
    "    # Generate symbols as a flattened list\n",
    "    symbols_list = [*sp.symbols(f'x:{num_vars}')]  # Generates x0, x1, ..., x_{d^3-1}\n",
    "    generators = initialize_generators(D,symbols_list)\n",
    "    symbolic_eigenstates = initialize_eigenstates(eigenstates)\n",
    "    null_ket = sp.Matrix(np.zeros(D,dtype=complex))\n",
    "\n",
    "    for (i,prefactor) in enumerate([2.0, 2.0j]):\n",
    "        \n",
    "        # iterate over all columns, or rather pairs of columns \n",
    "        sols = []\n",
    "        for k, m in enumerate(js):\n",
    "            # eig = symbolic_eigenstates[k]\n",
    "            m_plus1_state, m_minus1_state = null_ket, null_ket\n",
    "                # Check bounds before accessing elements\n",
    "                    # Ensure `i - 1` is valid before accessing it\n",
    "            if k >= 0 and m + 1 <= j:  \n",
    "                prefactor_up = (j * (j + 1) - m * (m + 1))**(1/2)\n",
    "                m_plus1_state = prefactor_up * symbolic_eigenstates[k - 1]\n",
    "\n",
    "            # Ensure `i + 1` is valid before accessing it\n",
    "            if k <= len(js) - 1  and m - 1 >= -j:  \n",
    "                prefactor_down = (j * (j + 1) - m * (m - 1))**(1/2)\n",
    "                m_minus1_state = prefactor_down * symbolic_eigenstates[k + 1]\n",
    "\n",
    "            rhs = -m_plus1_state - m_minus1_state if prefactor == 2.0 else -m_plus1_state + m_minus1_state\n",
    "            symbols = symbols_list[:num_vars//2] if prefactor == 2.0 else symbols_list[num_vars//2:] \n",
    "            sol = sp.solve(prefactor*generators[i]*symbolic_eigenstates[k]+rhs ,symbols,dict=True)[0]\n",
    "            sols.append(sol)\n",
    "        J = reassemble_mat_from_sols(D,sols)\n",
    "        generators[i] = J \n",
    "    \n",
    "    return generators + [J3]"
   ]
  },
  {
   "cell_type": "code",
   "execution_count": 4,
   "metadata": {},
   "outputs": [
    {
     "data": {
      "text/plain": [
       "[Matrix([\n",
       " [0.0, 0.5],\n",
       " [0.5, 0.0]]),\n",
       " Matrix([\n",
       " [  0.0, -0.5*I],\n",
       " [0.5*I,    0.0]]),\n",
       " Matrix([\n",
       " [0.5,    0],\n",
       " [  0, -0.5]])]"
      ]
     },
     "execution_count": 4,
     "metadata": {},
     "output_type": "execute_result"
    }
   ],
   "source": [
    "form_matrix_irrep_so3(j=1/2)"
   ]
  },
  {
   "cell_type": "code",
   "execution_count": 5,
   "metadata": {},
   "outputs": [],
   "source": [
    "J1, J2, J3 = form_matrix_irrep_so3(j=1/2)"
   ]
  },
  {
   "cell_type": "code",
   "execution_count": 6,
   "metadata": {},
   "outputs": [
    {
     "data": {
      "text/latex": [
       "$\\displaystyle \\left[\\begin{matrix}0.0 & 0.5\\\\0.5 & 0.0\\end{matrix}\\right]$"
      ],
      "text/plain": [
       "Matrix([\n",
       "[0.0, 0.5],\n",
       "[0.5, 0.0]])"
      ]
     },
     "execution_count": 6,
     "metadata": {},
     "output_type": "execute_result"
    }
   ],
   "source": [
    "J1"
   ]
  },
  {
   "cell_type": "code",
   "execution_count": 7,
   "metadata": {},
   "outputs": [
    {
     "data": {
      "text/latex": [
       "$\\displaystyle \\left[\\begin{matrix}0.0 & - 0.5 i\\\\0.5 i & 0.0\\end{matrix}\\right]$"
      ],
      "text/plain": [
       "Matrix([\n",
       "[  0.0, -0.5*I],\n",
       "[0.5*I,    0.0]])"
      ]
     },
     "execution_count": 7,
     "metadata": {},
     "output_type": "execute_result"
    }
   ],
   "source": [
    "J2"
   ]
  },
  {
   "cell_type": "code",
   "execution_count": 8,
   "metadata": {},
   "outputs": [
    {
     "data": {
      "text/latex": [
       "$\\displaystyle \\left[\\begin{matrix}0.5 & 0\\\\0 & -0.5\\end{matrix}\\right]$"
      ],
      "text/plain": [
       "Matrix([\n",
       "[0.5,    0],\n",
       "[  0, -0.5]])"
      ]
     },
     "execution_count": 8,
     "metadata": {},
     "output_type": "execute_result"
    }
   ],
   "source": [
    "J3"
   ]
  },
  {
   "cell_type": "code",
   "execution_count": 9,
   "metadata": {},
   "outputs": [],
   "source": [
    "J1, J2, J3 = form_matrix_irrep_so3(j=1)"
   ]
  },
  {
   "cell_type": "code",
   "execution_count": 10,
   "metadata": {},
   "outputs": [
    {
     "data": {
      "text/latex": [
       "$\\displaystyle \\left[\\begin{matrix}0.0 & 0.707106781186545 & 0.0\\\\0.707106781186545 & 0.0 & 0.707106781186545\\\\0.0 & 0.707106781186545 & 0.0\\end{matrix}\\right]$"
      ],
      "text/plain": [
       "Matrix([\n",
       "[              0.0, 0.707106781186545,               0.0],\n",
       "[0.707106781186545,               0.0, 0.707106781186545],\n",
       "[              0.0, 0.707106781186545,               0.0]])"
      ]
     },
     "execution_count": 10,
     "metadata": {},
     "output_type": "execute_result"
    }
   ],
   "source": [
    "J1"
   ]
  },
  {
   "cell_type": "markdown",
   "metadata": {},
   "source": []
  },
  {
   "cell_type": "code",
   "execution_count": 11,
   "metadata": {},
   "outputs": [
    {
     "data": {
      "text/latex": [
       "$\\displaystyle \\left[\\begin{matrix}0.0 & - 0.707106781186545 i & 0.0\\\\0.707106781186545 i & 0.0 & - 0.707106781186545 i\\\\0.0 & 0.707106781186545 i & 0.0\\end{matrix}\\right]$"
      ],
      "text/plain": [
       "Matrix([\n",
       "[                0.0, -0.707106781186545*I,                  0.0],\n",
       "[0.707106781186545*I,                  0.0, -0.707106781186545*I],\n",
       "[                0.0,  0.707106781186545*I,                  0.0]])"
      ]
     },
     "execution_count": 11,
     "metadata": {},
     "output_type": "execute_result"
    }
   ],
   "source": [
    "J2"
   ]
  },
  {
   "cell_type": "code",
   "execution_count": 12,
   "metadata": {},
   "outputs": [
    {
     "data": {
      "text/latex": [
       "$\\displaystyle \\left[\\begin{matrix}1.0 & 0 & 0\\\\0 & 0 & 0\\\\0 & 0 & -1.0\\end{matrix}\\right]$"
      ],
      "text/plain": [
       "Matrix([\n",
       "[1.0, 0,    0],\n",
       "[  0, 0,    0],\n",
       "[  0, 0, -1.0]])"
      ]
     },
     "execution_count": 12,
     "metadata": {},
     "output_type": "execute_result"
    }
   ],
   "source": [
    "J3"
   ]
  },
  {
   "cell_type": "code",
   "execution_count": 13,
   "metadata": {},
   "outputs": [],
   "source": [
    "J1, J2, J3 = form_matrix_irrep_so3(j=3/2)"
   ]
  },
  {
   "cell_type": "code",
   "execution_count": 14,
   "metadata": {},
   "outputs": [
    {
     "data": {
      "text/latex": [
       "$\\displaystyle \\left[\\begin{matrix}0.0 & 0.86602540378444 & 0.0 & 0.0\\\\0.86602540378444 & 0.0 & 1.0 & 0.0\\\\0.0 & 1.0 & 0.0 & 0.86602540378444\\\\0.0 & 0.0 & 0.86602540378444 & 0.0\\end{matrix}\\right]$"
      ],
      "text/plain": [
       "Matrix([\n",
       "[             0.0, 0.86602540378444,              0.0,              0.0],\n",
       "[0.86602540378444,              0.0,              1.0,              0.0],\n",
       "[             0.0,              1.0,              0.0, 0.86602540378444],\n",
       "[             0.0,              0.0, 0.86602540378444,              0.0]])"
      ]
     },
     "execution_count": 14,
     "metadata": {},
     "output_type": "execute_result"
    }
   ],
   "source": [
    "J1"
   ]
  },
  {
   "cell_type": "code",
   "execution_count": 15,
   "metadata": {},
   "outputs": [
    {
     "data": {
      "text/latex": [
       "$\\displaystyle \\left[\\begin{matrix}0.0 & - 0.86602540378444 i & 0.0 & 0.0\\\\0.86602540378444 i & 0.0 & - 1.0 i & 0.0\\\\0.0 & 1.0 i & 0.0 & - 0.86602540378444 i\\\\0.0 & 0.0 & 0.86602540378444 i & 0.0\\end{matrix}\\right]$"
      ],
      "text/plain": [
       "Matrix([\n",
       "[               0.0, -0.86602540378444*I,                0.0,                 0.0],\n",
       "[0.86602540378444*I,                 0.0,             -1.0*I,                 0.0],\n",
       "[               0.0,               1.0*I,                0.0, -0.86602540378444*I],\n",
       "[               0.0,                 0.0, 0.86602540378444*I,                 0.0]])"
      ]
     },
     "execution_count": 15,
     "metadata": {},
     "output_type": "execute_result"
    }
   ],
   "source": [
    "J2"
   ]
  },
  {
   "cell_type": "code",
   "execution_count": 16,
   "metadata": {},
   "outputs": [
    {
     "data": {
      "text/latex": [
       "$\\displaystyle \\left[\\begin{matrix}1.5 & 0 & 0 & 0\\\\0 & 0.5 & 0 & 0\\\\0 & 0 & -0.5 & 0\\\\0 & 0 & 0 & -1.5\\end{matrix}\\right]$"
      ],
      "text/plain": [
       "Matrix([\n",
       "[1.5,   0,    0,    0],\n",
       "[  0, 0.5,    0,    0],\n",
       "[  0,   0, -0.5,    0],\n",
       "[  0,   0,    0, -1.5]])"
      ]
     },
     "execution_count": 16,
     "metadata": {},
     "output_type": "execute_result"
    }
   ],
   "source": [
    "J3"
   ]
  },
  {
   "cell_type": "code",
   "execution_count": 237,
   "metadata": {},
   "outputs": [],
   "source": [
    "def ϵijk(i,j,k):\n",
    "    assert (i and j and k) >0 and (i and j and k) < 4  \n",
    "    if i == j or j == k or i == k:  # Fix condition: i == j should be checked too\n",
    "        return 0 \n",
    "    if (i, j, k) in [(1,2,3), (2,3,1), (3,1,2)]:\n",
    "        return 1 \n",
    "    if (i, j, k) in [(3,2,1), (1,3,2), (2,1,3)]:\n",
    "        return -1 \n",
    "    \n",
    "\n",
    "def δij(i,j): \n",
    "\n",
    "    if i ==j :\n",
    "        return 1 \n",
    "    elif i != j:\n",
    "        return 0 \n",
    "\n",
    "\n",
    "def trace(A: sp.Matrix) -> sp.Matrix: \n",
    "    \"\"\"\n",
    "    \"\"\"\n",
    "    N = A.shape[0]\n",
    "    t = sum(A.diagonal())\n",
    "    t_type = type(A[0])\n",
    "    I = sp.eye(N, dtype=t_type)\n",
    "    return t * I\n",
    "\n",
    "levi_civita = ϵijk\n",
    "\n",
    "def commutator(A: sp.Matrix,B:sp.Matrix)->sp.Matrix:\n",
    "    return A*B - B*A\n",
    "\n",
    "def anti_commutator(A: sp.Matrix, B: sp.Matrix) -> sp.Matrix:\n",
    "    return A*B+B*A"
   ]
  },
  {
   "attachments": {
    "image.png": {
     "image/png": "[encoded data removed]"
    }
   },
   "cell_type": "markdown",
   "metadata": {},
   "source": [
    "![image.png](attachment:image.png)"
   ]
  },
  {
   "cell_type": "code",
   "execution_count": 244,
   "metadata": {},
   "outputs": [],
   "source": [
    "\n",
    "j = 1/2\n",
    "Js = form_matrix_irrep_so3(j=j)\n",
    "σ = [2.0 * J for J in Js]\n",
    "\n",
    "triple_index_permutations = list(itertools.permutations([0,1,2]))\n",
    "\n",
    "double_index_permutations = (list(itertools.permutations([0,1])) + \n",
    "                         list(itertools.permutations([1,2])) +\n",
    "                         list(itertools.permutations([0,2])))\n",
    "\n",
    "def test_commutation_relation(Js: list[sp.Matrix],\n",
    "                              permuted_indices: list[tuple]):\n",
    "    \"\"\"\n",
    "    \"\"\"\n",
    "    for p in permuted_indices:\n",
    "        i,j,k = p\n",
    "        assert commutator(Js[i],Js[j]) == 2j*ϵijk(i+1,j+1,k+1)*Js[k]\n",
    "\n",
    "\n",
    "def test_anticommutation_relation(Js: list[sp.Matrix],\n",
    "                                  permuted_indices: list[tuple]):\n",
    "    \"\"\"\n",
    "    \"\"\"\n",
    "    N = Js[0].shape[0]\n",
    "    for p in permuted_indices:\n",
    "        i,j = p\n",
    "        assert anti_commutator(Js[i],Js[j]) == 2.0*δij(i,j)*sp.eye(N)\n",
    "\n",
    "-1.\n",
    "def test_trace_relation(Js: list[sp.Matrix],\n",
    "                        permuted_indices: list[tuple]): \n",
    "    \"\"\" \n",
    "    \"\"\"\n",
    "    N = Js[0].shape[0]\n",
    "    for p in permuted_indices:\n",
    "        i,j = p \n",
    "        print(i,j)\n",
    "        assert trace(Js[i] @ Js[j]) == 2.0 * δij(i,j) * sp.eye(N)\n",
    "\n",
    "\n",
    "def test_σ2_relation(Js,σ):\n",
    "    N = len(Js)\n",
    "    for k in range(N):\n",
    "        assert σ*Js[k]*σ == -1.0*Js[k].T == -1.0 * Js[k].conjugate()\n",
    "\n",
    "\n",
    "def test_hermiticity(Js):\n",
    "    for J in Js: \n",
    "        assert J == J.T.conjugate()\n"
   ]
  },
  {
   "cell_type": "code",
   "execution_count": null,
   "metadata": {},
   "outputs": [],
   "source": []
  },
  {
   "cell_type": "code",
   "execution_count": null,
   "metadata": {},
   "outputs": [],
   "source": [
    "test_commutation_relation(σ,\n",
    "                          triple_index_permutations)"
   ]
  },
  {
   "cell_type": "code",
   "execution_count": null,
   "metadata": {},
   "outputs": [],
   "source": [
    "test_anticommutation_relation(σ,\n",
    "                              double_index_permutations)"
   ]
  },
  {
   "cell_type": "code",
   "execution_count": 238,
   "metadata": {},
   "outputs": [
    {
     "name": "stdout",
     "output_type": "stream",
     "text": [
      "0 1\n",
      "1 0\n",
      "1 2\n",
      "2 1\n",
      "0 2\n",
      "2 0\n"
     ]
    }
   ],
   "source": [
    "test_trace_relation(σ,\n",
    "                    double_index_permutations)"
   ]
  },
  {
   "cell_type": "code",
   "execution_count": 243,
   "metadata": {},
   "outputs": [],
   "source": [
    "test_σ2_relation(σ,σ[1])"
   ]
  },
  {
   "cell_type": "code",
   "execution_count": 245,
   "metadata": {},
   "outputs": [],
   "source": [
    "test_hermiticity(σ)"
   ]
  },
  {
   "cell_type": "code",
   "execution_count": 264,
   "metadata": {},
   "outputs": [],
   "source": [
    "n1,n2,n3 = sp.symbols('n1 n2 n3')\n",
    "\n",
    "σn = sp.Matrix(  [[n3, n1-1j*n2],[n1+1j*n2, -n3]])"
   ]
  },
  {
   "cell_type": "code",
   "execution_count": 265,
   "metadata": {},
   "outputs": [],
   "source": [
    "vals = set(σn.eigenvals())"
   ]
  },
  {
   "cell_type": "code",
   "execution_count": 266,
   "metadata": {},
   "outputs": [
    {
     "data": {
      "text/plain": [
       "{-1.0*sqrt(n1**2 + n2**2 + n3**2), 1.0*sqrt(n1**2 + n2**2 + n3**2)}"
      ]
     },
     "execution_count": 266,
     "metadata": {},
     "output_type": "execute_result"
    }
   ],
   "source": [
    "vals"
   ]
  },
  {
   "cell_type": "code",
   "execution_count": 268,
   "metadata": {},
   "outputs": [],
   "source": [
    "θ, ϕ = sp.symbols('θ ϕ')"
   ]
  },
  {
   "cell_type": "code",
   "execution_count": 296,
   "metadata": {},
   "outputs": [
    {
     "data": {
      "text/latex": [
       "$\\displaystyle \\left[\\begin{matrix}- 0.5 i \\cos{\\left(θ \\right)} & - 0.5 i e^{- 1.0 i ϕ} \\sin{\\left(θ \\right)}\\\\- 0.5 i e^{1.0 i ϕ} \\sin{\\left(θ \\right)} & 0.5 i \\cos{\\left(θ \\right)}\\end{matrix}\\right]$"
      ],
      "text/plain": [
       "Matrix([\n",
       "[             -0.5*I*cos(θ), -0.5*I*exp(-1.0*I*ϕ)*sin(θ)],\n",
       "[-0.5*I*exp(1.0*I*ϕ)*sin(θ),                0.5*I*cos(θ)]])"
      ]
     },
     "execution_count": 296,
     "metadata": {},
     "output_type": "execute_result"
    }
   ],
   "source": [
    "σn = -1j/2*sp.Matrix([[ sp.cos(θ), sp.sin(θ) * sp.exp(-1j*ϕ) ],[sp.sin(θ) * sp.exp(1j*ϕ) , -sp.cos(θ) ]])\n",
    "σn"
   ]
  },
  {
   "cell_type": "code",
   "execution_count": 356,
   "metadata": {},
   "outputs": [
    {
     "data": {
      "text/latex": [
       "$\\displaystyle \\left[\\begin{matrix}- 0.5 i & 0\\\\0 & 0.5 i\\end{matrix}\\right]$"
      ],
      "text/plain": [
       "Matrix([\n",
       "[-0.5*I,     0],\n",
       "[     0, 0.5*I]])"
      ]
     },
     "execution_count": 356,
     "metadata": {},
     "output_type": "execute_result"
    }
   ],
   "source": [
    "P, D = σn.diagonalize()\n",
    "D"
   ]
  },
  {
   "cell_type": "code",
   "execution_count": 320,
   "metadata": {},
   "outputs": [
    {
     "data": {
      "text/latex": [
       "$\\displaystyle \\left[\\begin{matrix}i \\left(0.5 e^{i ϕ} \\cos{\\left(θ \\right)} - 0.25 e^{1.0 i} e^{i ϕ} \\cos{\\left(θ \\right)} - 0.25 e^{- 1.0 i} e^{i ϕ} \\cos{\\left(θ \\right)} - 0.25 e^{- 1.0 i} e^{i ϕ} + 0.25 e^{1.0 i} e^{i ϕ} - 0.5 e^{- i ϕ} \\cos{\\left(θ \\right)} + 0.25 e^{- 1.0 i} e^{- i ϕ} \\cos{\\left(θ \\right)} + 0.25 e^{1.0 i} e^{- i ϕ} \\cos{\\left(θ \\right)} - 0.25 e^{1.0 i} e^{- i ϕ} + 0.25 e^{- 1.0 i} e^{- i ϕ}\\right) \\sin{\\left(θ \\right)} & i \\left(0.5 \\sin^{2}{\\left(θ \\right)} - 0.25 e^{1.0 i} \\sin^{2}{\\left(θ \\right)} - 0.25 e^{- 1.0 i} \\sin^{2}{\\left(θ \\right)} - 1.0 - 0.5 e^{- 2 i ϕ} \\sin^{2}{\\left(θ \\right)} + 0.25 e^{- 1.0 i} e^{- 2 i ϕ} \\sin^{2}{\\left(θ \\right)} + 0.25 e^{1.0 i} e^{- 2 i ϕ} \\sin^{2}{\\left(θ \\right)}\\right)\\\\i \\left(0.5 e^{2 i ϕ} \\sin^{2}{\\left(θ \\right)} - 0.25 e^{1.0 i} e^{2 i ϕ} \\sin^{2}{\\left(θ \\right)} - 0.25 e^{- 1.0 i} e^{2 i ϕ} \\sin^{2}{\\left(θ \\right)} - 0.5 \\sin^{2}{\\left(θ \\right)} + 0.25 e^{- 1.0 i} \\sin^{2}{\\left(θ \\right)} + 0.25 e^{1.0 i} \\sin^{2}{\\left(θ \\right)} + 1.0\\right) & i \\left(- 0.5 e^{i ϕ} \\cos{\\left(θ \\right)} + 0.25 e^{- 1.0 i} e^{i ϕ} \\cos{\\left(θ \\right)} + 0.25 e^{1.0 i} e^{i ϕ} \\cos{\\left(θ \\right)} - 0.25 e^{- 1.0 i} e^{i ϕ} + 0.25 e^{1.0 i} e^{i ϕ} + 0.5 e^{- i ϕ} \\cos{\\left(θ \\right)} - 0.25 e^{1.0 i} e^{- i ϕ} \\cos{\\left(θ \\right)} - 0.25 e^{- 1.0 i} e^{- i ϕ} \\cos{\\left(θ \\right)} - 0.25 e^{1.0 i} e^{- i ϕ} + 0.25 e^{- 1.0 i} e^{- i ϕ}\\right) \\sin{\\left(θ \\right)}\\end{matrix}\\right]$"
      ],
      "text/plain": [
       "Matrix([\n",
       "[I*(0.5*exp(I*ϕ)*cos(θ) - 0.25*exp(1.0*I)*exp(I*ϕ)*cos(θ) - 0.25*exp(-1.0*I)*exp(I*ϕ)*cos(θ) - 0.25*exp(-1.0*I)*exp(I*ϕ) + 0.25*exp(1.0*I)*exp(I*ϕ) - 0.5*exp(-I*ϕ)*cos(θ) + 0.25*exp(-1.0*I)*exp(-I*ϕ)*cos(θ) + 0.25*exp(1.0*I)*exp(-I*ϕ)*cos(θ) - 0.25*exp(1.0*I)*exp(-I*ϕ) + 0.25*exp(-1.0*I)*exp(-I*ϕ))*sin(θ),                                                                                                                      I*(0.5*sin(θ)**2 - 0.25*exp(1.0*I)*sin(θ)**2 - 0.25*exp(-1.0*I)*sin(θ)**2 - 1.0 - 0.5*exp(-2*I*ϕ)*sin(θ)**2 + 0.25*exp(-1.0*I)*exp(-2*I*ϕ)*sin(θ)**2 + 0.25*exp(1.0*I)*exp(-2*I*ϕ)*sin(θ)**2)],\n",
       "[                                                                                                                       I*(0.5*exp(2*I*ϕ)*sin(θ)**2 - 0.25*exp(1.0*I)*exp(2*I*ϕ)*sin(θ)**2 - 0.25*exp(-1.0*I)*exp(2*I*ϕ)*sin(θ)**2 - 0.5*sin(θ)**2 + 0.25*exp(-1.0*I)*sin(θ)**2 + 0.25*exp(1.0*I)*sin(θ)**2 + 1.0), I*(-0.5*exp(I*ϕ)*cos(θ) + 0.25*exp(-1.0*I)*exp(I*ϕ)*cos(θ) + 0.25*exp(1.0*I)*exp(I*ϕ)*cos(θ) - 0.25*exp(-1.0*I)*exp(I*ϕ) + 0.25*exp(1.0*I)*exp(I*ϕ) + 0.5*exp(-I*ϕ)*cos(θ) - 0.25*exp(1.0*I)*exp(-I*ϕ)*cos(θ) - 0.25*exp(-1.0*I)*exp(-I*ϕ)*cos(θ) - 0.25*exp(1.0*I)*exp(-I*ϕ) + 0.25*exp(-1.0*I)*exp(-I*ϕ))*sin(θ)]])"
      ]
     },
     "execution_count": 320,
     "metadata": {},
     "output_type": "execute_result"
    }
   ],
   "source": [
    "sp.trigsimp(P * sp.exp(D) * P.inv() * σ[1] * P* sp.exp(D) * P.inv())"
   ]
  },
  {
   "cell_type": "code",
   "execution_count": 292,
   "metadata": {},
   "outputs": [],
   "source": [
    "A = sp.trigsimp(P*sp.exp(-1j/2*D)*P.inv())*σ[1] * sp.simplify(P*sp.exp(+1j/2*D)*P.inv())"
   ]
  },
  {
   "cell_type": "code",
   "execution_count": 366,
   "metadata": {},
   "outputs": [
    {
     "data": {
      "text/latex": [
       "$\\displaystyle \\left[\\begin{matrix}- 1.0 \\sin^{2}{\\left(θ \\right)} + 0.5 \\left(0.54030230586814 - 0.841470984807897 i\\right) \\sin^{2}{\\left(θ \\right)} + 0.5 e^{1.0 i} \\sin^{2}{\\left(θ \\right)} + 1.0 & 1.0 \\left(- 0.5 \\cos{\\left(θ \\right)} - 0.5 e^{2.0 i} \\cos{\\left(θ \\right)} + 1.0 e^{1.0 i} \\cos{\\left(θ \\right)} - 0.708073418273571 + 0.454648713412841 i\\right) e^{- i \\left(ϕ + 1.0\\right)} \\sin{\\left(θ \\right)}\\\\0.5 \\left(- \\cos{\\left(θ \\right)} + \\left(0.416146836547142 - 0.909297426825682 i\\right) \\cos{\\left(θ \\right)} + 2 \\left(0.54030230586814 + 0.841470984807897 i\\right) \\cos{\\left(θ \\right)} + 1.41614683654714 - 0.909297426825682 i\\right) e^{i \\left(ϕ - 1.0\\right)} \\sin{\\left(θ \\right)} & 1.0 \\sin^{2}{\\left(θ \\right)} - 0.5 e^{1.0 i} \\sin^{2}{\\left(θ \\right)} - 0.5 \\left(0.54030230586814 - 0.841470984807897 i\\right) \\sin^{2}{\\left(θ \\right)} - 1.0\\end{matrix}\\right]$"
      ],
      "text/plain": [
       "Matrix([\n",
       "[                                                                             -1.0*sin(θ)**2 + 0.5*(0.54030230586814 - 0.841470984807897*I)*sin(θ)**2 + 0.5*exp(1.0*I)*sin(θ)**2 + 1.0, 1.0*(-0.5*cos(θ) - 0.5*exp(2.0*I)*cos(θ) + 1.0*exp(1.0*I)*cos(θ) - 0.708073418273571 + 0.454648713412841*I)*exp(-I*(ϕ + 1.0))*sin(θ)],\n",
       "[0.5*(-cos(θ) + (0.416146836547142 - 0.909297426825682*I)*cos(θ) + 2*(0.54030230586814 + 0.841470984807897*I)*cos(θ) + 1.41614683654714 - 0.909297426825682*I)*exp(I*(ϕ - 1.0))*sin(θ),                              1.0*sin(θ)**2 - 0.5*exp(1.0*I)*sin(θ)**2 - 0.5*(0.54030230586814 - 0.841470984807897*I)*sin(θ)**2 - 1.0]])"
      ]
     },
     "execution_count": 366,
     "metadata": {},
     "output_type": "execute_result"
    }
   ],
   "source": [
    "sp.simplify(P*sp.exp(D)*sp.simplify(P.inv()*σ[2]*P)*sp.exp(-D)*P.inv())"
   ]
  },
  {
   "cell_type": "code",
   "execution_count": 363,
   "metadata": {},
   "outputs": [
    {
     "data": {
      "text/latex": [
       "$\\displaystyle \\left[\\begin{matrix}1.0 e^{- 0.5 i} & 0\\\\0 & 1.0 e^{0.5 i}\\end{matrix}\\right]$"
      ],
      "text/plain": [
       "Matrix([\n",
       "[1.0*exp(-0.5*I),              0],\n",
       "[              0, 1.0*exp(0.5*I)]])"
      ]
     },
     "execution_count": 363,
     "metadata": {},
     "output_type": "execute_result"
    }
   ],
   "source": [
    "sp.exp(D)"
   ]
  },
  {
   "cell_type": "code",
   "execution_count": 321,
   "metadata": {},
   "outputs": [
    {
     "data": {
      "text/plain": [
       "87988614800.75902"
      ]
     },
     "execution_count": 321,
     "metadata": {},
     "output_type": "execute_result"
    }
   ],
   "source": [
    "9.274e-24/1.054e-34"
   ]
  },
  {
   "cell_type": "code",
   "execution_count": 323,
   "metadata": {},
   "outputs": [],
   "source": [
    "T3 = 1j*sp.Matrix(  [[0,1,0 ],[-1,0,0],[0,0,0]])"
   ]
  },
  {
   "cell_type": "code",
   "execution_count": 349,
   "metadata": {},
   "outputs": [
    {
     "data": {
      "text/latex": [
       "$\\displaystyle \\left[\\begin{matrix}1.0 & 0 & 0\\\\0 & 1.0 & 0\\\\0 & 0 & 0\\end{matrix}\\right]$"
      ],
      "text/plain": [
       "Matrix([\n",
       "[1.0,   0, 0],\n",
       "[  0, 1.0, 0],\n",
       "[  0,   0, 0]])"
      ]
     },
     "execution_count": 349,
     "metadata": {},
     "output_type": "execute_result"
    }
   ],
   "source": [
    "(T3)**2"
   ]
  },
  {
   "cell_type": "code",
   "execution_count": null,
   "metadata": {},
   "outputs": [],
   "source": [
    "import streamlit as st\n",
    "\n",
    "st.title(\"SymPy Matrix Generator\")\n",
    "\n",
    "n = st.number_input(\"Enter matrix size (n x n):\", min_value=1/2, step=1)"
   ]
  }
 ],
 "metadata": {
  "kernelspec": {
   "display_name": ".sandbox",
   "language": "python",
   "name": "python3"
  },
  "language_info": {
   "codemirror_mode": {
    "name": "ipython",
    "version": 3
   },
   "file_extension": ".py",
   "mimetype": "text/x-python",
   "name": "python",
   "nbconvert_exporter": "python",
   "pygments_lexer": "ipython3",
   "version": "3.11.3"
  }
 },
 "nbformat": 4,
 "nbformat_minor": 2
}
